{
 "cells": [
  {
   "cell_type": "markdown",
   "metadata": {},
   "source": [
    "## Genotypic recalibration with machine learning: usage example\n",
    "\n",
    "This notebook illustrates the use of machine learning methods and associated code described in the parent paper."
   ]
  },
  {
   "cell_type": "code",
   "execution_count": 1,
   "metadata": {},
   "outputs": [],
   "source": [
    "import pandas as pd\n",
    "\n",
    "from preprocessing import VCF, load_suffixes, prepare_input\n",
    "from recalibrator import Recalibrator"
   ]
  },
  {
   "cell_type": "markdown",
   "metadata": {},
   "source": [
    "## Training & saving a model\n",
    "\n",
    "Training is performed on a dataset consisting of VCF files resulting from performing variant calling with GATK on reads from a family trio, along with a 'synthetic abortus' that contains a mixture of the mother's and child's reads. The code to read and process the dataset relies on a specific directory structure. The `VCF` class and the `prepare input` method are all that's needed to read a VCF and convert it into an array that can be input into a model. Once trained, a recalibrator model can be serialized and saved."
   ]
  },
  {
   "cell_type": "code",
   "execution_count": 2,
   "metadata": {},
   "outputs": [],
   "source": [
    "trios = [\"ajt\", \"chd\", \"corpas\", \"yri\"]\n",
    "\n",
    "# Pre-processing. Uncomment during first run of the script, then\n",
    "# comment to avoid re-computing\n",
    "\n",
    "# for trio in trios:\n",
    "#     data_dir = '../data/' + trio + '/'\n",
    "#     df = load_suffixes(data_dir)\n",
    "#     df.to_csv(trio + '.csv', index=False)"
   ]
  },
  {
   "cell_type": "markdown",
   "metadata": {},
   "source": [
    "Construct training dataset by concatenating rows from all the synthetic abortus trios"
   ]
  },
  {
   "cell_type": "code",
   "execution_count": 3,
   "metadata": {},
   "outputs": [],
   "source": [
    "df_train = pd.DataFrame()\n",
    "    \n",
    "for train in trios:\n",
    "    df_train = df_train.append(pd.read_csv(train + '.csv'))\n",
    "    \n",
    "df_train = df_train[::10]"
   ]
  },
  {
   "cell_type": "code",
   "execution_count": 4,
   "metadata": {},
   "outputs": [
    {
     "name": "stdout",
     "output_type": "stream",
     "text": [
      "Training logistic regression\n"
     ]
    },
    {
     "name": "stderr",
     "output_type": "stream",
     "text": [
      "/usr/lib/python3.6/site-packages/sklearn/model_selection/_split.py:2026: FutureWarning: From version 0.21, test_size will always complement train_size unless both are specified.\n",
      "  FutureWarning)\n"
     ]
    },
    {
     "name": "stdout",
     "output_type": "stream",
     "text": [
      "Training XGB\n",
      "[0]\tvalidation_0-merror:0.047056\n",
      "Will train until validation_0-merror hasn't improved in 20 rounds.\n",
      "[1]\tvalidation_0-merror:0.044297\n",
      "[2]\tvalidation_0-merror:0.044773\n",
      "[3]\tvalidation_0-merror:0.044297\n",
      "[4]\tvalidation_0-merror:0.044741\n",
      "[5]\tvalidation_0-merror:0.043409\n",
      "[6]\tvalidation_0-merror:0.043409\n",
      "[7]\tvalidation_0-merror:0.043346\n",
      "[8]\tvalidation_0-merror:0.042553\n",
      "[9]\tvalidation_0-merror:0.042236\n",
      "[10]\tvalidation_0-merror:0.040904\n",
      "[11]\tvalidation_0-merror:0.04046\n",
      "[12]\tvalidation_0-merror:0.039795\n",
      "[13]\tvalidation_0-merror:0.040175\n",
      "[14]\tvalidation_0-merror:0.039477\n",
      "[15]\tvalidation_0-merror:0.039129\n",
      "[16]\tvalidation_0-merror:0.039002\n",
      "[17]\tvalidation_0-merror:0.038494\n",
      "[18]\tvalidation_0-merror:0.038051\n",
      "[19]\tvalidation_0-merror:0.037702\n",
      "[20]\tvalidation_0-merror:0.037194\n",
      "[21]\tvalidation_0-merror:0.037353\n",
      "[22]\tvalidation_0-merror:0.037131\n",
      "[23]\tvalidation_0-merror:0.036814\n",
      "[24]\tvalidation_0-merror:0.036211\n",
      "[25]\tvalidation_0-merror:0.035768\n",
      "[26]\tvalidation_0-merror:0.035165\n",
      "[27]\tvalidation_0-merror:0.035007\n",
      "[28]\tvalidation_0-merror:0.034785\n",
      "[29]\tvalidation_0-merror:0.034531\n",
      "[30]\tvalidation_0-merror:0.034087\n",
      "[31]\tvalidation_0-merror:0.03396\n",
      "[32]\tvalidation_0-merror:0.033928\n",
      "[33]\tvalidation_0-merror:0.033643\n",
      "[34]\tvalidation_0-merror:0.033484\n",
      "[35]\tvalidation_0-merror:0.033199\n",
      "[36]\tvalidation_0-merror:0.033041\n",
      "[37]\tvalidation_0-merror:0.032945\n",
      "[38]\tvalidation_0-merror:0.03266\n",
      "[39]\tvalidation_0-merror:0.032502\n",
      "[40]\tvalidation_0-merror:0.032502\n",
      "[41]\tvalidation_0-merror:0.03228\n",
      "[42]\tvalidation_0-merror:0.032248\n",
      "[43]\tvalidation_0-merror:0.032089\n",
      "[44]\tvalidation_0-merror:0.031931\n",
      "[45]\tvalidation_0-merror:0.031899\n",
      "[46]\tvalidation_0-merror:0.031899\n",
      "[47]\tvalidation_0-merror:0.031709\n",
      "[48]\tvalidation_0-merror:0.031709\n",
      "[49]\tvalidation_0-merror:0.031582\n",
      "[50]\tvalidation_0-merror:0.031423\n",
      "[51]\tvalidation_0-merror:0.031297\n",
      "[52]\tvalidation_0-merror:0.031138\n",
      "[53]\tvalidation_0-merror:0.031075\n",
      "[54]\tvalidation_0-merror:0.030979\n",
      "[55]\tvalidation_0-merror:0.030884\n",
      "[56]\tvalidation_0-merror:0.030694\n",
      "[57]\tvalidation_0-merror:0.030599\n",
      "[58]\tvalidation_0-merror:0.030472\n",
      "[59]\tvalidation_0-merror:0.030504\n",
      "[60]\tvalidation_0-merror:0.030218\n",
      "[61]\tvalidation_0-merror:0.030092\n",
      "[62]\tvalidation_0-merror:0.030092\n",
      "[63]\tvalidation_0-merror:0.030028\n",
      "[64]\tvalidation_0-merror:0.030028\n",
      "[65]\tvalidation_0-merror:0.030028\n",
      "[66]\tvalidation_0-merror:0.030028\n",
      "[67]\tvalidation_0-merror:0.030092\n",
      "[68]\tvalidation_0-merror:0.029965\n",
      "[69]\tvalidation_0-merror:0.029901\n",
      "[70]\tvalidation_0-merror:0.029838\n",
      "[71]\tvalidation_0-merror:0.03006\n",
      "[72]\tvalidation_0-merror:0.029997\n",
      "[73]\tvalidation_0-merror:0.029901\n",
      "[74]\tvalidation_0-merror:0.030028\n",
      "[75]\tvalidation_0-merror:0.029997\n",
      "[76]\tvalidation_0-merror:0.029838\n",
      "[77]\tvalidation_0-merror:0.029743\n",
      "[78]\tvalidation_0-merror:0.029775\n",
      "[79]\tvalidation_0-merror:0.029806\n",
      "[80]\tvalidation_0-merror:0.029901\n",
      "[81]\tvalidation_0-merror:0.02987\n",
      "[82]\tvalidation_0-merror:0.029711\n",
      "[83]\tvalidation_0-merror:0.029743\n",
      "[84]\tvalidation_0-merror:0.029711\n",
      "[85]\tvalidation_0-merror:0.029648\n",
      "[86]\tvalidation_0-merror:0.029553\n",
      "[87]\tvalidation_0-merror:0.029362\n",
      "[88]\tvalidation_0-merror:0.029394\n",
      "[89]\tvalidation_0-merror:0.029553\n",
      "[90]\tvalidation_0-merror:0.029616\n",
      "[91]\tvalidation_0-merror:0.029394\n",
      "[92]\tvalidation_0-merror:0.029204\n",
      "[93]\tvalidation_0-merror:0.029362\n",
      "[94]\tvalidation_0-merror:0.029299\n",
      "[95]\tvalidation_0-merror:0.029489\n",
      "[96]\tvalidation_0-merror:0.029331\n",
      "[97]\tvalidation_0-merror:0.029394\n",
      "[98]\tvalidation_0-merror:0.029489\n",
      "[99]\tvalidation_0-merror:0.029394\n",
      "[100]\tvalidation_0-merror:0.029426\n",
      "[101]\tvalidation_0-merror:0.029331\n",
      "[102]\tvalidation_0-merror:0.029267\n",
      "[103]\tvalidation_0-merror:0.029236\n",
      "[104]\tvalidation_0-merror:0.029204\n",
      "[105]\tvalidation_0-merror:0.029109\n",
      "[106]\tvalidation_0-merror:0.029077\n",
      "[107]\tvalidation_0-merror:0.02914\n",
      "[108]\tvalidation_0-merror:0.029172\n",
      "[109]\tvalidation_0-merror:0.029204\n",
      "[110]\tvalidation_0-merror:0.029426\n",
      "[111]\tvalidation_0-merror:0.029362\n",
      "[112]\tvalidation_0-merror:0.029362\n",
      "[113]\tvalidation_0-merror:0.029331\n",
      "[114]\tvalidation_0-merror:0.029394\n",
      "[115]\tvalidation_0-merror:0.029394\n",
      "[116]\tvalidation_0-merror:0.029394\n",
      "[117]\tvalidation_0-merror:0.029267\n",
      "[118]\tvalidation_0-merror:0.029267\n",
      "[119]\tvalidation_0-merror:0.029204\n",
      "[120]\tvalidation_0-merror:0.029109\n",
      "[121]\tvalidation_0-merror:0.029172\n",
      "[122]\tvalidation_0-merror:0.02895\n",
      "[123]\tvalidation_0-merror:0.029045\n",
      "[124]\tvalidation_0-merror:0.029014\n",
      "[125]\tvalidation_0-merror:0.029014\n",
      "[126]\tvalidation_0-merror:0.028982\n",
      "[127]\tvalidation_0-merror:0.029077\n",
      "[128]\tvalidation_0-merror:0.029077\n",
      "[129]\tvalidation_0-merror:0.029014\n",
      "[130]\tvalidation_0-merror:0.028918\n",
      "[131]\tvalidation_0-merror:0.028982\n",
      "[132]\tvalidation_0-merror:0.029204\n",
      "[133]\tvalidation_0-merror:0.029077\n",
      "[134]\tvalidation_0-merror:0.029172\n",
      "[135]\tvalidation_0-merror:0.029172\n",
      "[136]\tvalidation_0-merror:0.029172\n",
      "[137]\tvalidation_0-merror:0.02914\n",
      "[138]\tvalidation_0-merror:0.029109\n",
      "[139]\tvalidation_0-merror:0.029204\n",
      "[140]\tvalidation_0-merror:0.029204\n",
      "[141]\tvalidation_0-merror:0.029267\n",
      "[142]\tvalidation_0-merror:0.029362\n",
      "[143]\tvalidation_0-merror:0.029394\n",
      "[144]\tvalidation_0-merror:0.029299\n",
      "[145]\tvalidation_0-merror:0.029236\n",
      "[146]\tvalidation_0-merror:0.029172\n",
      "[147]\tvalidation_0-merror:0.029236\n",
      "[148]\tvalidation_0-merror:0.029362\n",
      "[149]\tvalidation_0-merror:0.029362\n",
      "[150]\tvalidation_0-merror:0.029236\n",
      "Stopping. Best iteration:\n",
      "[130]\tvalidation_0-merror:0.028918\n",
      "\n"
     ]
    }
   ],
   "source": [
    "X_train = prepare_input(df_train, target_cols=['justchild^GT'])\n",
    "y_train = df_train['justchild^GT'].values\n",
    "\n",
    "r = Recalibrator()\n",
    "r.train(X_train, y_train)\n",
    "r.save(\"model.pickle\")\n"
   ]
  },
  {
   "cell_type": "markdown",
   "metadata": {},
   "source": [
    "## Loading a model & recalibrating"
   ]
  },
  {
   "cell_type": "code",
   "execution_count": 5,
   "metadata": {},
   "outputs": [
    {
     "name": "stderr",
     "output_type": "stream",
     "text": [
      "/home/boi/research/ML-maternal-cell-contamination/python/preprocessing.py:191: FutureWarning: convert_objects is deprecated.  To re-infer data dtypes for object columns, use DataFrame.infer_objects()\n",
      "For all other conversions use the data-type specific converters pd.to_datetime, pd.to_timedelta and pd.to_numeric.\n",
      "  df = df.convert_objects(convert_numeric=True)\n"
     ]
    }
   ],
   "source": [
    "r = Recalibrator()\n",
    "r.load(\"model.pickle\")\n",
    "\n",
    "abortus = VCF(\"../data/ajt/abortus.frac0.5.seed151_trio.vcf\")\n",
    "abortus.process(0.5)\n",
    "\n",
    "# Predicted labels\n",
    "preds_lr = r.predict_lr(abortus.prepare_input())\n",
    "abortus.save_predictions(preds_lr, filename=\"recalibrated_lr.vcf\", sample_name=\"abortus\")"
   ]
  },
  {
   "cell_type": "markdown",
   "metadata": {},
   "source": [
    "## Recalibrating with confidence intervals\n",
    "\n",
    "We use the `VCF` class's inbuilt method to process the VCF and extract the fields required by `confidence_intervals`."
   ]
  },
  {
   "cell_type": "code",
   "execution_count": 6,
   "metadata": {},
   "outputs": [
    {
     "name": "stderr",
     "output_type": "stream",
     "text": [
      "/home/boi/research/ML-maternal-cell-contamination/python/preprocessing.py:191: FutureWarning: convert_objects is deprecated.  To re-infer data dtypes for object columns, use DataFrame.infer_objects()\n",
      "For all other conversions use the data-type specific converters pd.to_datetime, pd.to_timedelta and pd.to_numeric.\n",
      "  df = df.convert_objects(convert_numeric=True)\n",
      "/home/boi/research/ML-maternal-cell-contamination/python/confidence_intervals.py:10: RuntimeWarning: divide by zero encountered in true_divide\n",
      "  lower_bound = contaminations - z*np.sqrt(contaminations*(1 - contaminations)/df_test[sample_name + '^DP'].values)\n",
      "/home/boi/research/ML-maternal-cell-contamination/python/confidence_intervals.py:11: RuntimeWarning: divide by zero encountered in true_divide\n",
      "  upper_bound = contaminations + z*np.sqrt(contaminations*(1 - contaminations)/df_test[sample_name + '^DP'].values)\n"
     ]
    }
   ],
   "source": [
    "from confidence_intervals import confidence_intervals\n",
    "\n",
    "abortus = VCF(\"../data/ajt/abortus.frac0.5.seed151_trio.vcf\")\n",
    "abortus.process(0.5)\n",
    "preds_ci = confidence_intervals(abortus.df_processed)\n",
    "\n",
    "abortus.save_predictions(preds_ci, filename=\"recalibrated_ci.vcf\", sample_name=\"abortus\")"
   ]
  },
  {
   "cell_type": "code",
   "execution_count": null,
   "metadata": {},
   "outputs": [],
   "source": []
  }
 ],
 "metadata": {
  "kernelspec": {
   "display_name": "Python 3",
   "language": "python",
   "name": "python3"
  },
  "language_info": {
   "codemirror_mode": {
    "name": "ipython",
    "version": 3
   },
   "file_extension": ".py",
   "mimetype": "text/x-python",
   "name": "python",
   "nbconvert_exporter": "python",
   "pygments_lexer": "ipython3",
   "version": "3.6.6"
  }
 },
 "nbformat": 4,
 "nbformat_minor": 2
}
