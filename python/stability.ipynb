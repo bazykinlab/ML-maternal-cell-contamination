{
 "cells": [
  {
   "cell_type": "code",
   "execution_count": null,
   "metadata": {},
   "outputs": [],
   "source": [
    "import os\n",
    "import numpy as np\n",
    "import pandas as pd\n",
    "from matplotlib import pyplot as plt\n",
    "from tqdm import tqdm\n",
    "from sklearn.metrics import accuracy_score\n",
    "\n",
    "from preprocessing import *\n",
    "from recalibrator import Recalibrator\n",
    "from utils import match\n",
    "from confidence_intervals import confidence_intervals"
   ]
  },
  {
   "cell_type": "code",
   "execution_count": null,
   "metadata": {},
   "outputs": [],
   "source": [
    "trios = [\"ajt\", \"chd\", \"corpas\", \"yri\"]\n",
    "\n",
    "# # Pre-processing. Uncomment during first run of the script, then\n",
    "# # comment to avoid re-computing\n",
    "\n",
    "# for trio in trios:\n",
    "#     data_dir = '../data/' + trio + '/'\n",
    "#     df = load_suffixes(data_dir)\n",
    "#     df.to_csv(trio + '.csv')"
   ]
  },
  {
   "cell_type": "code",
   "execution_count": null,
   "metadata": {},
   "outputs": [],
   "source": [
    "test = 'yri'\n",
    "df_train = pd.DataFrame()\n",
    "\n",
    "for train in trios:\n",
    "    if train != test:\n",
    "        df_train = df_train.append(pd.read_csv(train + '.csv'))\n",
    "\n",
    "df_test = pd.read_csv(test + '.csv')\n",
    "\n",
    "gt_cols = list(filter(match(\"GT\", pos=-1), df_train.columns.values))\n",
    "to_drop = list(set(['#CHROM', 'POS', 'Unnamed: 0', 'Unnamed: 1'] + gt_cols))\n",
    "\n",
    "X_train = df_train.drop(to_drop + [\"justchild^GT\"], axis=1).values\n",
    "y_train = df_train['justchild^GT'].values\n",
    "X_test = df_test.drop(to_drop + [\"justchild^GT\"], axis=1).values\n",
    "y_test = df_test['justchild^GT'].values\n",
    "\n",
    "contaminations = df_test['contamination'].values\n",
    "contamination_values = list(sorted(np.unique(contaminations)))\n",
    "\n",
    "for contamination in contamination_values:\n",
    "    idx[contamination] = contaminations == contamination\n",
    "\n",
    "r = Recalibrator()\n",
    "r.train(X_train, y_train)"
   ]
  },
  {
   "cell_type": "code",
   "execution_count": null,
   "metadata": {},
   "outputs": [],
   "source": [
    "from copy import deepcopy\n",
    "\n",
    "def test_perturbed(predict, perturbation):\n",
    "    df_test_perturbed = deepcopy(df_test)\n",
    "\n",
    "\n",
    "    new_contaminations = contaminations + perturbation\n",
    "    df_test_perturbed['contamination'] = new_contaminations\n",
    "\n",
    "    X_test = df_test_perturbed.drop(to_drop, axis=1).values\n",
    "    y_test = df_test['justchild^GT'].values\n",
    "    genotype_ab_test = df_test['abortus^GT'].values\n",
    "\n",
    "    return {contamination: predict(X_test[idx[contamination]]) for contamination in contamination_values}"
   ]
  },
  {
   "cell_type": "code",
   "execution_count": null,
   "metadata": {},
   "outputs": [],
   "source": [
    "\n",
    "stdev = 0.0\n",
    "errors = [-0.05, -0.03, -0.01, 0, 0.01, 0.03, 0.05]\n",
    "\n",
    "preds_perturbed_lr = {}\n",
    "preds_perturbed_xgb = {}\n",
    "for mean in errors:\n",
    "    preds_perturbed_lr[mean] = test_perturbed(r.predict_lr, np.random.normal(mean, stdev, contaminations.shape))\n",
    "    preds_perturbed_xgb[mean] = test_perturbed(r.predict_xgb, np.random.normal(mean, stdev, contaminations.shape))\n",
    "\n",
    "scores_perturbed_lr = {mean: [accuracy_score(y_tests[contamination], preds_perturbed_lr[mean][contamination]) for contamination in contamination_values] for mean in errors}\n",
    "scores_perturbed_xgb = {mean: [accuracy_score(y_tests[contamination], preds_perturbed_xgb[mean][contamination]) for contamination in contamination_values] for mean in errors}\n",
    "\n",
    "# preds_perturbed = {contamination: model.predict(X_test[idx[contamination]]) for contamination in contamination_values}"
   ]
  },
  {
   "cell_type": "code",
   "execution_count": null,
   "metadata": {},
   "outputs": [],
   "source": [
    "plt.figure(figsize=(11, 8))\n",
    "# plt.plot(contamination_values, scores_naive, label=\"No recalibration\")\n",
    "# plt.plot(contamination_values, scores_perturbed, label=\"Perturbed\")\n",
    "\n",
    "for mean in errors:\n",
    "    plt.plot(contamination_values, scores_perturbed_lr[mean], label=\"{}\".format(mean))\n",
    "plt.legend()\n",
    "# from labellines import labelLine, labelLines\n",
    "# labelLines(plt.gca().get_lines())\n",
    "\n",
    "plt.grid()\n",
    "plt.xlabel(\"MCC\")\n",
    "plt.ylabel(\"Fraction of correct genotypes\")\n",
    "plt.title(\"Recalibration with logistic regression for biased MCC estimation (YRI trio)\")\n",
    "# plt.savefig('stabilities_lr.eps', format='eps', dpi=1000)"
   ]
  },
  {
   "cell_type": "code",
   "execution_count": null,
   "metadata": {
    "scrolled": true
   },
   "outputs": [],
   "source": [
    "plt.figure(figsize=(11, 8))\n",
    "# plt.plot(contamination_values, scores_naive, label=\"No recalibration\")\n",
    "# plt.plot(contamination_values, scores_perturbed, label=\"Perturbed\")\n",
    "\n",
    "for mean in errors:\n",
    "    plt.plot(contamination_values, scores_perturbed_xgb[mean], label=\"{}\".format(mean))\n",
    "plt.legend()\n",
    "# from labellines import labelLine, labelLines\n",
    "# labelLines(plt.gca().get_lines())\n",
    "\n",
    "plt.grid()\n",
    "plt.xlabel(\"MCC\")\n",
    "plt.ylabel(\"Fraction of correct genotypes\")\n",
    "plt.title(\"Recalibration with logistic regression for biased MCC estimation (YRI trio)\")\n",
    "# plt.savefig('stabilities_xgb.eps', format='eps', dpi=1000)"
   ]
  },
  {
   "cell_type": "code",
   "execution_count": null,
   "metadata": {},
   "outputs": [],
   "source": []
  }
 ],
 "metadata": {
  "kernelspec": {
   "display_name": "Python 3",
   "language": "python",
   "name": "python3"
  },
  "language_info": {
   "codemirror_mode": {
    "name": "ipython",
    "version": 3
   },
   "file_extension": ".py",
   "mimetype": "text/x-python",
   "name": "python",
   "nbconvert_exporter": "python",
   "pygments_lexer": "ipython3",
   "version": "3.6.6"
  }
 },
 "nbformat": 4,
 "nbformat_minor": 2
}
