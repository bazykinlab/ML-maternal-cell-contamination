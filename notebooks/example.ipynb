{
 "cells": [
  {
   "cell_type": "markdown",
   "metadata": {},
   "source": [
    "## Genotypic recalibration with machine learning: usage example\n",
    "\n",
    "This notebook illustrates the use of machine learning methods and associated code described in the parent paper."
   ]
  },
  {
   "cell_type": "code",
   "execution_count": 1,
   "metadata": {},
   "outputs": [],
   "source": [
    "import pandas as pd\n",
    "\n",
    "import sys\n",
    "sys.path.insert(0, '../python')\n",
    "\n",
    "from preprocessing import VCF, load_suffixes, prepare_input\n",
    "from recalibrator import Recalibrator"
   ]
  },
  {
   "cell_type": "markdown",
   "metadata": {},
   "source": [
    "## Training & saving a model\n",
    "\n",
    "Training is performed on a dataset consisting of VCF files resulting from performing variant calling with GATK on reads from a family trio, along with a 'synthetic abortus' that contains a mixture of the mother's and child's reads. The code to read and process the dataset relies on a specific directory structure. The `VCF` class and the `prepare input` method are all that's needed to read a VCF and convert it into an array that can be input into a model. Once trained, a recalibrator model can be serialized and saved."
   ]
  },
  {
   "cell_type": "code",
   "execution_count": null,
   "metadata": {},
   "outputs": [],
   "source": [
    "trios = [\"ajt\", \"chd\", \"corpas\", \"yri\"]\n",
    "\n",
    "# Pre-processing. Uncomment during first run of the script, then\n",
    "# comment to avoid re-computing\n",
    "\n",
    "# for trio in trios:\n",
    "#     data_dir = '../data/' + trio + '/'\n",
    "#     df = load_suffixes(data_dir)\n",
    "#     df.to_csv(trio + '.csv', index=False)"
   ]
  },
  {
   "cell_type": "markdown",
   "metadata": {},
   "source": [
    "Construct training dataset by concatenating rows from all the synthetic abortus trios"
   ]
  },
  {
   "cell_type": "code",
   "execution_count": null,
   "metadata": {},
   "outputs": [],
   "source": [
    "df_train = pd.DataFrame()\n",
    "    \n",
    "for train in trios:\n",
    "    df_train = df_train.append(pd.read_csv(train + '.csv'))\n",
    "    \n",
    "# df_train = df_train[::10] # Train on subset of input rows"
   ]
  },
  {
   "cell_type": "code",
   "execution_count": null,
   "metadata": {},
   "outputs": [],
   "source": [
    "X_train = prepare_input(df_train, target_cols=['justchild^GT'])\n",
    "y_train = df_train['justchild^GT'].values\n",
    "\n",
    "r = Recalibrator()\n",
    "r.train(X_train, y_train)\n",
    "r.save(\"model.pickle\")\n"
   ]
  },
  {
   "cell_type": "markdown",
   "metadata": {},
   "source": [
    "## Loading a model & recalibrating"
   ]
  },
  {
   "cell_type": "code",
   "execution_count": null,
   "metadata": {},
   "outputs": [],
   "source": [
    "r = Recalibrator()\n",
    "r.load(\"model.pickle\")\n",
    "\n",
    "abortus = VCF(\"../data/ajt/abortus.frac0.5.seed151_trio.vcf\")\n",
    "abortus.process(0.5)\n",
    "\n",
    "# Predicted labels\n",
    "preds_lr = r.predict_lr(abortus.prepare_input())\n",
    "abortus.save_predictions(preds_lr, filename=\"recalibrated_lr.vcf\", child=\"abortus\")"
   ]
  },
  {
   "cell_type": "markdown",
   "metadata": {},
   "source": [
    "## Recalibrating with confidence intervals\n",
    "\n",
    "We use the `VCF` class's inbuilt method to process the VCF and extract the fields required by `confidence_intervals`."
   ]
  },
  {
   "cell_type": "code",
   "execution_count": 2,
   "metadata": {},
   "outputs": [
    {
     "name": "stderr",
     "output_type": "stream",
     "text": [
      "../python/preprocessing.py:241: FutureWarning: convert_objects is deprecated.  To re-infer data dtypes for object columns, use DataFrame.infer_objects()\n",
      "For all other conversions use the data-type specific converters pd.to_datetime, pd.to_timedelta and pd.to_numeric.\n",
      "  df = df.convert_objects(convert_numeric=True)\n",
      "../python/confidence_intervals.py:9: RuntimeWarning: divide by zero encountered in true_divide\n",
      "  lower_bound = contaminations - z*np.sqrt(contaminations*(1 - contaminations)/df_test[ab_name + '^DP'].values)\n",
      "../python/confidence_intervals.py:10: RuntimeWarning: divide by zero encountered in true_divide\n",
      "  upper_bound = contaminations + z*np.sqrt(contaminations*(1 - contaminations)/df_test[ab_name + '^DP'].values)\n"
     ]
    }
   ],
   "source": [
    "from confidence_intervals import confidence_intervals\n",
    "\n",
    "abortus = VCF(\"../data/ajt/abortus.frac0.5.seed151_trio.vcf\")\n",
    "abortus.process(0.5, \"mother\", \"father\", \"abortus\")\n",
    "preds_ci = confidence_intervals(abortus.df_processed)\n",
    "\n",
    "abortus.save_predictions(preds_ci, filename=\"recalibrated_ci.vcf\", child=\"abortus\")"
   ]
  }
 ],
 "metadata": {
  "kernelspec": {
   "display_name": "Python 3",
   "language": "python",
   "name": "python3"
  },
  "language_info": {
   "codemirror_mode": {
    "name": "ipython",
    "version": 3
   },
   "file_extension": ".py",
   "mimetype": "text/x-python",
   "name": "python",
   "nbconvert_exporter": "python",
   "pygments_lexer": "ipython3",
   "version": "3.6.6"
  }
 },
 "nbformat": 4,
 "nbformat_minor": 2
}
