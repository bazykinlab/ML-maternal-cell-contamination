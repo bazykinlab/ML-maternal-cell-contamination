{
 "cells": [
  {
   "cell_type": "code",
   "execution_count": 1,
   "metadata": {},
   "outputs": [],
   "source": [
    "import pandas as pd\n",
    "import timeit\n",
    "\n",
    "import sys\n",
    "sys.path.insert(0, '../python')\n",
    "\n",
    "from preprocessing import VCF, load_suffixes, prepare_input\n",
    "from recalibrator import Recalibrator"
   ]
  },
  {
   "cell_type": "code",
   "execution_count": 2,
   "metadata": {},
   "outputs": [],
   "source": [
    "trios = [\"ajt\", \"chd\", \"corpas\", \"yri\"]\n",
    "\n",
    "# Pre-processing. Uncomment during first run of the script, then\n",
    "# comment to avoid re-computing\n",
    "\n",
    "# for trio in trios:\n",
    "#     data_dir = '../data/' + trio + '/'\n",
    "#     df = load_suffixes(data_dir)\n",
    "#     df.to_csv(trio + '.csv', index=False)"
   ]
  },
  {
   "cell_type": "markdown",
   "metadata": {},
   "source": [
    "Construct training dataset by concatenating rows from all the synthetic abortus trios"
   ]
  },
  {
   "cell_type": "code",
   "execution_count": 3,
   "metadata": {},
   "outputs": [],
   "source": [
    "df_train = pd.DataFrame()\n",
    "    \n",
    "for train in trios:\n",
    "    df_train = df_train.append(pd.read_csv(train + '.csv'))\n",
    "    \n",
    "# df_train = df_train[::1000] # Train on subset of input rows"
   ]
  },
  {
   "cell_type": "code",
   "execution_count": 4,
   "metadata": {
    "scrolled": true
   },
   "outputs": [],
   "source": [
    "X_train = prepare_input(df_train, target_cols=['justchild^GT'])\n",
    "y_train = df_train['justchild^GT'].values\n",
    "\n",
    "r = Recalibrator()\n"
   ]
  },
  {
   "cell_type": "code",
   "execution_count": 5,
   "metadata": {
    "scrolled": true
   },
   "outputs": [
    {
     "name": "stdout",
     "output_type": "stream",
     "text": [
      "Logistic Regression: 0.17235993999929633 s\n",
      "XGBoost: 7.298937838000711 s\n",
      "Meta-classifier: 6.97217417799402 s\n"
     ]
    }
   ],
   "source": [
    "def callable(model):\n",
    "    def inner():\n",
    "        model.fit(X_train, y_train)\n",
    "    \n",
    "    return inner\n",
    "\n",
    "models = [r.model_lr,\n",
    "          r.model_xgb,\n",
    "          r.model_meta]\n",
    "\n",
    "model_names = [\"Logistic Regression\",\n",
    "               \"XGBoost\",\n",
    "               \"Meta-classifier\"]\n",
    "\n",
    "for model, name in zip(models, model_names):\n",
    "    print(\"{}: {} s\".format(name, timeit.timeit(stmt=callable(model), \n",
    "                    number=20)))"
   ]
  }
 ],
 "metadata": {
  "kernelspec": {
   "display_name": "Python 3",
   "language": "python",
   "name": "python3"
  },
  "language_info": {
   "codemirror_mode": {
    "name": "ipython",
    "version": 3
   },
   "file_extension": ".py",
   "mimetype": "text/x-python",
   "name": "python",
   "nbconvert_exporter": "python",
   "pygments_lexer": "ipython3",
   "version": "3.6.6"
  }
 },
 "nbformat": 4,
 "nbformat_minor": 2
}
